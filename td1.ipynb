{
 "cells": [
  {
   "cell_type": "code",
   "execution_count": 3,
   "metadata": {},
   "outputs": [
    {
     "name": "stdout",
     "output_type": "stream",
     "text": [
      "Hello World\n"
     ]
    }
   ],
   "source": [
    "def Exo0():\n",
    "    print(\"Hello World\")\n",
    "\n",
    "Exo0()"
   ]
  },
  {
   "cell_type": "code",
   "execution_count": 4,
   "metadata": {},
   "outputs": [
    {
     "name": "stdout",
     "output_type": "stream",
     "text": [
      "La vitesse est de 2.8834894613583137 m/s\n",
      "La vitesse est de 2.88 m/s\n"
     ]
    }
   ],
   "source": [
    "def Exercice1():\n",
    "    temps = 6.832\n",
    "    distance = 19.7\n",
    "\n",
    "    vitesse = distance / temps\n",
    "    print(\"La vitesse est de\", vitesse, \"m/s\")\n",
    "\n",
    "    vitesse = round(vitesse,2)\n",
    "    print(\"La vitesse est de\", vitesse, \"m/s\")\n",
    "\n",
    "Exercice1()"
   ]
  },
  {
   "cell_type": "code",
   "execution_count": 9,
   "metadata": {},
   "outputs": [
    {
     "name": "stdout",
     "output_type": "stream",
     "text": [
      "3\n",
      "5\n",
      "3\n",
      "5\n",
      "3\n",
      "5\n"
     ]
    }
   ],
   "source": [
    "def Exercice2(nb1,nb2):\n",
    "    mode = input(\"Type de test\\n1. Alternative Minimum\\n2. Alternative Maximum\\n3. Simple Minimum\\n4. Simple Maximum\\n5. Ternaire Minimum\\n6. Ternaire Maximum\\nEntrez le mode : \")\n",
    "    if mode == \"1\":\n",
    "        min = nb1\n",
    "        if nb1 > nb2: # Test Alternatif Minimum\n",
    "            min = nb2\n",
    "        return min\n",
    "    \n",
    "    elif mode == \"2\":\n",
    "        max = nb1\n",
    "        if nb2 > nb1: # Test Alternatif Maximum\n",
    "            max = nb2\n",
    "        return max\n",
    "    \n",
    "    elif mode == \"3\":\n",
    "        if nb1 > nb2: # Test Simple Minimum\n",
    "            return nb2\n",
    "        else:\n",
    "            return nb1\n",
    "        \n",
    "    elif mode == \"4\":\n",
    "        if nb1 > nb2: # Test Simple Maximum\n",
    "            return nb1\n",
    "        else:\n",
    "            return nb2\n",
    "        \n",
    "    elif mode == \"5\": # Test Ternaire Minimum\n",
    "        return nb2 if nb1 > nb2 else nb1\n",
    "    \n",
    "    elif mode == \"6\": # Test Ternaire Maximum\n",
    "        return nb2 if nb1 < nb2 else nb1\n",
    "    \n",
    "print(Exercice2(5,3))\n",
    "print(Exercice2(5,3))\n",
    "print(Exercice2(5,3))\n",
    "print(Exercice2(5,3))\n",
    "print(Exercice2(5,3))\n",
    "print(Exercice2(5,3))"
   ]
  },
  {
   "cell_type": "code",
   "execution_count": 10,
   "metadata": {},
   "outputs": [
    {
     "name": "stdout",
     "output_type": "stream",
     "text": [
      "8\n",
      "12\n",
      "24\n"
     ]
    }
   ],
   "source": [
    "def volBoite(arg1 = None, arg2 = None, arg3 = None): #Exercice 3\n",
    "    if arg1 is None:\n",
    "        return -1\n",
    "    \n",
    "    elif arg2 is None and arg3 is None: # Seulement 1 argument\n",
    "        return arg1**3\n",
    "    \n",
    "    elif arg3 is None: # 2 arguments\n",
    "        return arg1**2 * arg2\n",
    "    \n",
    "    else: # 3 arguments\n",
    "       return arg1 * arg2 * arg3\n",
    "\n",
    "print(volBoite(2))\n",
    "print(volBoite(2,3))\n",
    "print(volBoite(2,3,4))"
   ]
  },
  {
   "cell_type": "code",
   "execution_count": 11,
   "metadata": {},
   "outputs": [
    {
     "name": "stdout",
     "output_type": "stream",
     "text": [
      "8\n"
     ]
    }
   ],
   "source": [
    "def eleMax(liste, debut = None, fin = None): #Exercice 4\n",
    "    if len(liste) == 0:\n",
    "        return None\n",
    "    if debut is None:\n",
    "        debut = 0\n",
    "    if fin is None:\n",
    "        fin = len(liste) - 1\n",
    "    liste = liste[debut:fin+1]\n",
    "    return max(liste)\n",
    "\n",
    "print(eleMax([1,2,3,4,5,6,7,8,9,10], 2, 7))"
   ]
  },
  {
   "cell_type": "code",
   "execution_count": 5,
   "metadata": {},
   "outputs": [
    {
     "name": "stdout",
     "output_type": "stream",
     "text": [
      "[31, 'Janvier', 28, 'Février', 31, 'Mars', 30, 'Avril', 31, 'Mai', 30, 'Juin', 31, 'Juillet', 31, 'Août', 30, 'Septembre', 31, 'Octobre', 30, 'Novembre', 31, 'Décembre']\n"
     ]
    }
   ],
   "source": [
    "def Exercice5():\n",
    "    t1 = [31, 28, 31, 30, 31, 30, 31, 31, 30, 31, 30, 31]\n",
    "    t2 = ['Janvier', 'Février', 'Mars', 'Avril', 'Mai', 'Juin', 'Juillet', 'Août', 'Septembre', 'Octobre', 'Novembre',\n",
    "    'Décembre']\n",
    "    \n",
    "    t3 = []\n",
    "    max_length = max(len(t1),len(t2))\n",
    "    for i in range(max_length):\n",
    "        if i >= len(t1): # Si on a dépassé la taille de t1\n",
    "            t3.append(t2[i])\n",
    "        elif i >= len(t2): # Si on a dépassé la taille de t2\n",
    "            t3.append(t1[i])\n",
    "\n",
    "        t3.append(t1[i])\n",
    "        t3.append(t2[i])\n",
    "    return t3\n",
    "\n",
    "print(Exercice5())"
   ]
  },
  {
   "cell_type": "code",
   "execution_count": 13,
   "metadata": {},
   "outputs": [
    {
     "name": "stdout",
     "output_type": "stream",
     "text": [
      "dlroW olleH\n"
     ]
    }
   ],
   "source": [
    "def Exercice6(mot):\n",
    "    mot = mot[::-1]\n",
    "    return mot\n",
    "\n",
    "print(Exercice6(\"Hello World\"))"
   ]
  },
  {
   "cell_type": "code",
   "execution_count": 14,
   "metadata": {},
   "outputs": [
    {
     "name": "stdout",
     "output_type": "stream",
     "text": [
      "[11, 12, 22, 25, 34, 64, 90]\n"
     ]
    }
   ],
   "source": [
    "def mafonction(arr): #Exercice 7\n",
    "    \"\"\"\n",
    "        C'est un algorithme de tri qui prend en paramètre un tableau d'entiers et le trie en ordre croissant\n",
    "    \"\"\"\n",
    "    n = len(arr)\n",
    "    for i in range(n):\n",
    "        for j in range(0, n-i-1):\n",
    "            if arr[j] > arr[j+1] :\n",
    "                arr[j], arr[j+1] = arr[j+1], arr[j]\n",
    "    return arr\n",
    "\n",
    "print(mafonction([64, 34, 25, 12, 22, 11, 90]))"
   ]
  },
  {
   "cell_type": "code",
   "execution_count": 15,
   "metadata": {},
   "outputs": [
    {
     "name": "stdout",
     "output_type": "stream",
     "text": [
      "5 4 3 2 1 GO!\n"
     ]
    }
   ],
   "source": [
    "def Exercice8(nb):\n",
    "    ch = ''\n",
    "    for i in range(nb,0,-1):\n",
    "        ch += f\"{i} \"\n",
    "    ch += \"GO!\"\n",
    "    return ch\n",
    "\n",
    "print(Exercice8(5))"
   ]
  },
  {
   "cell_type": "code",
   "execution_count": 17,
   "metadata": {},
   "outputs": [
    {
     "name": "stdout",
     "output_type": "stream",
     "text": [
      "radar est un palindrome\n",
      "Kayak est un palindrome\n",
      "Hello est un palindrome\n"
     ]
    }
   ],
   "source": [
    "def Exercice9(mot):\n",
    "    reversed = mot[::-1]\n",
    "    for i in range(len(mot)):\n",
    "        if mot.lower()[i] != reversed.lower()[-i-1]:\n",
    "            return f\"{mot} n'est pas un palindrome\"\n",
    "    return f\"{mot} est un palindrome\"\n",
    "\n",
    "print(Exercice9(\"radar\"))\n",
    "print(Exercice9(\"Kayak\"))\n",
    "print(Exercice9(\"Hello\"))"
   ]
  },
  {
   "cell_type": "code",
   "execution_count": 18,
   "metadata": {},
   "outputs": [
    {
     "name": "stdout",
     "output_type": "stream",
     "text": [
      "([0, 1, 2, 3, 4, 4, 3, 2, 1, 0], [0, 1, 2, 0, 1, 2, 0, 1, 2], [0, 3])\n"
     ]
    }
   ],
   "source": [
    "def Exercice10():\n",
    "    my_list = [0,1,2,3,4]\n",
    "    l1 = my_list + my_list[::-1]\n",
    "    l2 = my_list[:3] * 3\n",
    "    l3 = my_list[::3]\n",
    "    return l1,l2,l3\n",
    "\n",
    "print(Exercice10())"
   ]
  },
  {
   "cell_type": "code",
   "execution_count": 19,
   "metadata": {},
   "outputs": [
    {
     "name": "stdout",
     "output_type": "stream",
     "text": [
      "Impair\n",
      "Pair\n"
     ]
    }
   ],
   "source": [
    "def Exercice11(nb):\n",
    "    if nb%2 == 0:\n",
    "        return \"Pair\"\n",
    "    else:\n",
    "        return \"Impair\"\n",
    "    \n",
    "print(Exercice11(5))\n",
    "print(Exercice11(4))"
   ]
  },
  {
   "cell_type": "code",
   "execution_count": 7,
   "metadata": {},
   "outputs": [
    {
     "name": "stdout",
     "output_type": "stream",
     "text": [
      "SNCF\n",
      "TGV\n",
      "------------ METHODE JOIN ------------\n",
      "SNCF\n",
      "TGV\n"
     ]
    }
   ],
   "source": [
    "def Exercice12(word):\n",
    "    ch = \"\"\n",
    "    list_word = word.split(\" \")\n",
    "    for i in list_word:\n",
    "        ch += i[0].capitalize()\n",
    "    return ch\n",
    "\n",
    "print(Exercice12(\"Société Nationale Chemin Fer\"))\n",
    "print(Exercice12(\"Train grande vitesse\"))\n",
    "\n",
    "def Exercice12b(word): #Méthode join pour l'exercice 12\n",
    "    list_word = word.split(\" \")\n",
    "    return \"\".join([i[0].capitalize() for i in list_word])\n",
    "\n",
    "print(\"------------ METHODE JOIN ------------\")\n",
    "print(Exercice12b(\"Société Nationale Chemin Fer\"))\n",
    "print(Exercice12b(\"Train grande vitesse\"))"
   ]
  },
  {
   "cell_type": "code",
   "execution_count": 22,
   "metadata": {},
   "outputs": [
    {
     "name": "stdout",
     "output_type": "stream",
     "text": [
      "Le caractère l apparait 3 fois dans la chaine\n"
     ]
    }
   ],
   "source": [
    "def Exercice13(chaine,c):\n",
    "    occ = 0\n",
    "    for i in chaine:\n",
    "        if i == c:\n",
    "            occ += 1\n",
    "    return \"Le caractère {} apparait {} fois dans la chaine\".format(c,occ)\n",
    "\n",
    "print(Exercice13(\"Hello World\", \"l\"))"
   ]
  },
  {
   "cell_type": "code",
   "execution_count": 23,
   "metadata": {},
   "outputs": [
    {
     "name": "stdout",
     "output_type": "stream",
     "text": [
      "Il y a 3 voyelles dans la chaine \"Hello World\"\n"
     ]
    }
   ],
   "source": [
    "def Exercice14(chaine):\n",
    "    vowels = ['a','e','i','o','u','y']\n",
    "    occ = 0\n",
    "    for i in chaine.lower():\n",
    "        if i in vowels:\n",
    "            occ += 1\n",
    "    return \"Il y a {} voyelles dans la chaine \\\"{}\\\"\".format(occ,chaine)\n",
    "\n",
    "print(Exercice14(\"Hello World\"))"
   ]
  },
  {
   "cell_type": "code",
   "execution_count": 26,
   "metadata": {},
   "outputs": [
    {
     "name": "stdout",
     "output_type": "stream",
     "text": [
      "{'pi': 3.14, 'mot': 'mot', 'nombre': 42, 'liste': [1, 2, 3]}\n",
      "pi vaut 3.14 dans my_dict\n",
      "bonjour n'est pas une clé de my_dict\n",
      "{'mot': 'mot', 'nombre': '0', 'liste': [1, 2, 3], 'hello': 'world'}\n"
     ]
    }
   ],
   "source": [
    "def Exercice15():\n",
    "    my_dict = {\n",
    "        \"pi\":3.14,\n",
    "        \"mot\":\"mot\",\n",
    "        \"nombre\":42,\n",
    "        \"liste\":[1,2,3]\n",
    "    }\n",
    "    return my_dict\n",
    "\n",
    "def Exercice16():\n",
    "    my_dict = Exercice15()\n",
    "    word = input(\"Entrez un mot : \")\n",
    "    if word in my_dict:\n",
    "        return f\"{word} vaut {my_dict[word]} dans my_dict\"\n",
    "    return f\"{word} n'est pas une clé de my_dict\"\n",
    "    \n",
    "def Exercice17():\n",
    "    my_dict = Exercice15()\n",
    "    my_dict[\"hello\"] = \"world\"\n",
    "    my_dict['nombre'] = \"0\"\n",
    "    my_dict.pop(\"pi\")\n",
    "\n",
    "    return my_dict\n",
    "\n",
    "print(Exercice15())\n",
    "print(Exercice16())\n",
    "print(Exercice16())\n",
    "print(Exercice17())"
   ]
  },
  {
   "cell_type": "code",
   "execution_count": 27,
   "metadata": {},
   "outputs": [
    {
     "name": "stdout",
     "output_type": "stream",
     "text": [
      "({1, 2, 3}, {' ', 'o', 'd', 'e', 'W', 'r', 'l', 'H'}, {2, 40, 10, 20, 30}, {5, 6, 7, 8, 9, 10, 11, 12, 13, 14, 15})\n"
     ]
    }
   ],
   "source": [
    "def Exercice18():\n",
    "    value = [10,20,30,40,10,2,40]\n",
    "    s1 = set([1,2,3])\n",
    "    s2 = set(\"Hello World\")\n",
    "    s3 = set(value)\n",
    "    s4 = set([i for i in range(5,16)])\n",
    "    return s1,s2,s3,s4\n",
    "\n",
    "print(Exercice18())"
   ]
  },
  {
   "cell_type": "code",
   "execution_count": null,
   "metadata": {},
   "outputs": [],
   "source": []
  }
 ],
 "metadata": {
  "kernelspec": {
   "display_name": "Python 3",
   "language": "python",
   "name": "python3"
  },
  "language_info": {
   "codemirror_mode": {
    "name": "ipython",
    "version": 3
   },
   "file_extension": ".py",
   "mimetype": "text/x-python",
   "name": "python",
   "nbconvert_exporter": "python",
   "pygments_lexer": "ipython3",
   "version": "3.10.5"
  }
 },
 "nbformat": 4,
 "nbformat_minor": 2
}
